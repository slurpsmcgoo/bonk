{
 "cells": [
  {
   "cell_type": "code",
   "execution_count": 4,
   "id": "2e91031b",
   "metadata": {},
   "outputs": [
    {
     "name": "stdout",
     "output_type": "stream",
     "text": [
      "/home/jack/Code/bonk/source\n",
      "['/home/jack/Code/bonk/test', '/home/jack/anaconda3/lib/python39.zip', '/home/jack/anaconda3/lib/python3.9', '/home/jack/anaconda3/lib/python3.9/lib-dynload', '', '/home/jack/anaconda3/lib/python3.9/site-packages', '/home/jack/anaconda3/lib/python3.9/site-packages/IPython/extensions', '/home/jack/.ipython', '/home/jack/Code/bonk/source']\n",
      "13.725703125\n"
     ]
    }
   ],
   "source": [
    "import sys\n",
    "import os\n",
    "module_path = os.path.abspath(os.path.join('../source'))\n",
    "print(module_path)\n",
    "if module_path not in sys.path:\n",
    "    sys.path.append(module_path)\n",
    "import bonk\n",
    "print(sys.path)\n",
    "environment = bonk.Environment()\n",
    "athlete = bonk.Athlete()\n",
    "segment = bonk.Segment()\n",
    "\n",
    "velocity = 4.5\n",
    "\n",
    "print(bonk.getDragPower(environment, athlete, velocity))\n"
   ]
  },
  {
   "cell_type": "code",
   "execution_count": null,
   "id": "c0424e2f",
   "metadata": {},
   "outputs": [],
   "source": []
  }
 ],
 "metadata": {
  "kernelspec": {
   "display_name": "Python 3 (ipykernel)",
   "language": "python",
   "name": "python3"
  },
  "language_info": {
   "codemirror_mode": {
    "name": "ipython",
    "version": 3
   },
   "file_extension": ".py",
   "mimetype": "text/x-python",
   "name": "python",
   "nbconvert_exporter": "python",
   "pygments_lexer": "ipython3",
   "version": "3.9.13"
  }
 },
 "nbformat": 4,
 "nbformat_minor": 5
}
