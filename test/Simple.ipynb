{
 "cells": [
  {
   "cell_type": "code",
   "execution_count": 14,
   "id": "2e91031b",
   "metadata": {},
   "outputs": [
    {
     "ename": "AttributeError",
     "evalue": "module 'bonk' has no attribute 'Environment'",
     "output_type": "error",
     "traceback": [
      "\u001b[1;31m---------------------------------------------------------------------------\u001b[0m",
      "\u001b[1;31mAttributeError\u001b[0m                            Traceback (most recent call last)",
      "Cell \u001b[1;32mIn[14], line 8\u001b[0m\n\u001b[0;32m      5\u001b[0m     sys\u001b[38;5;241m.\u001b[39mpath\u001b[38;5;241m.\u001b[39mappend(module_path)\n\u001b[0;32m      6\u001b[0m \u001b[38;5;28;01mimport\u001b[39;00m \u001b[38;5;21;01mbonk\u001b[39;00m\n\u001b[1;32m----> 8\u001b[0m environment \u001b[38;5;241m=\u001b[39m \u001b[43mbonk\u001b[49m\u001b[38;5;241;43m.\u001b[39;49m\u001b[43mEnvironment\u001b[49m()\n\u001b[0;32m      9\u001b[0m athlete \u001b[38;5;241m=\u001b[39m bonk\u001b[38;5;241m.\u001b[39mAthlete()\n\u001b[0;32m     10\u001b[0m segment \u001b[38;5;241m=\u001b[39m bonk\u001b[38;5;241m.\u001b[39mSegment()\n",
      "\u001b[1;31mAttributeError\u001b[0m: module 'bonk' has no attribute 'Environment'"
     ]
    }
   ],
   "source": [
    "import sys\n",
    "import os\n",
    "module_path = os.path.abspath(os.path.join('../source'))\n",
    "if module_path not in sys.path:\n",
    "    sys.path.append(module_path)\n",
    "import bonk\n",
    "\n",
    "environment = bonk.Environment()\n",
    "athlete = bonk.Athlete()\n",
    "segment = bonk.Segment()\n",
    "\n",
    "velocity = 4.5\n",
    "\n",
    "print(bonk.getDragPower(environment, athlete, velocity))\n",
    "print(bonk.getFlatPower(environment, athlete, velocity))\n",
    "print(bonk.getSlopePower(environment, athlete, segment, velocity))"
   ]
  },
  {
   "cell_type": "code",
   "execution_count": null,
   "id": "c0424e2f",
   "metadata": {},
   "outputs": [],
   "source": []
  }
 ],
 "metadata": {
  "kernelspec": {
   "display_name": "Python 3 (ipykernel)",
   "language": "python",
   "name": "python3"
  },
  "language_info": {
   "codemirror_mode": {
    "name": "ipython",
    "version": 3
   },
   "file_extension": ".py",
   "mimetype": "text/x-python",
   "name": "python",
   "nbconvert_exporter": "python",
   "pygments_lexer": "ipython3",
   "version": "3.9.16"
  }
 },
 "nbformat": 4,
 "nbformat_minor": 5
}
